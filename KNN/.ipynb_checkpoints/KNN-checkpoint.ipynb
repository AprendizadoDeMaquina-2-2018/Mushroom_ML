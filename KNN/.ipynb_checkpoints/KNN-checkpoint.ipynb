{
 "cells": [
  {
   "cell_type": "code",
   "execution_count": 1,
   "metadata": {},
   "outputs": [],
   "source": [
    "import pandas as pd\n",
    "import numpy as np\n",
    "import matplotlib.pyplot as plt\n",
    "import seaborn as sns\n",
    "from profilehooks import profile, timecall\n",
    "from sklearn.neighbors import KNeighborsClassifier\n",
    "from sklearn.model_selection import train_test_split\n",
    "from sklearn.metrics import classification_report, confusion_matrix\n",
    "from sklearn.model_selection import cross_val_score\n",
    "\n",
    "%matplotlib inline"
   ]
  },
  {
   "cell_type": "code",
   "execution_count": 2,
   "metadata": {},
   "outputs": [],
   "source": [
    "df = pd.read_csv('../cleaned_data.csv', index_col=0)"
   ]
  },
  {
   "cell_type": "code",
   "execution_count": 3,
   "metadata": {
    "scrolled": true
   },
   "outputs": [
    {
     "data": {
      "text/html": [
       "<div>\n",
       "<style scoped>\n",
       "    .dataframe tbody tr th:only-of-type {\n",
       "        vertical-align: middle;\n",
       "    }\n",
       "\n",
       "    .dataframe tbody tr th {\n",
       "        vertical-align: top;\n",
       "    }\n",
       "\n",
       "    .dataframe thead th {\n",
       "        text-align: right;\n",
       "    }\n",
       "</style>\n",
       "<table border=\"1\" class=\"dataframe\">\n",
       "  <thead>\n",
       "    <tr style=\"text-align: right;\">\n",
       "      <th></th>\n",
       "      <th>target</th>\n",
       "      <th>cap-shape_c</th>\n",
       "      <th>cap-shape_f</th>\n",
       "      <th>cap-shape_k</th>\n",
       "      <th>cap-shape_s</th>\n",
       "      <th>cap-shape_x</th>\n",
       "      <th>cap-surface_g</th>\n",
       "      <th>cap-surface_s</th>\n",
       "      <th>cap-surface_y</th>\n",
       "      <th>cap-color_c</th>\n",
       "      <th>...</th>\n",
       "      <th>population_n</th>\n",
       "      <th>population_s</th>\n",
       "      <th>population_v</th>\n",
       "      <th>population_y</th>\n",
       "      <th>habitat_g</th>\n",
       "      <th>habitat_l</th>\n",
       "      <th>habitat_m</th>\n",
       "      <th>habitat_p</th>\n",
       "      <th>habitat_u</th>\n",
       "      <th>habitat_w</th>\n",
       "    </tr>\n",
       "  </thead>\n",
       "  <tbody>\n",
       "    <tr>\n",
       "      <th>0</th>\n",
       "      <td>p</td>\n",
       "      <td>0</td>\n",
       "      <td>0</td>\n",
       "      <td>0</td>\n",
       "      <td>0</td>\n",
       "      <td>1</td>\n",
       "      <td>0</td>\n",
       "      <td>1</td>\n",
       "      <td>0</td>\n",
       "      <td>0</td>\n",
       "      <td>...</td>\n",
       "      <td>0</td>\n",
       "      <td>1</td>\n",
       "      <td>0</td>\n",
       "      <td>0</td>\n",
       "      <td>0</td>\n",
       "      <td>0</td>\n",
       "      <td>0</td>\n",
       "      <td>0</td>\n",
       "      <td>1</td>\n",
       "      <td>0</td>\n",
       "    </tr>\n",
       "    <tr>\n",
       "      <th>1</th>\n",
       "      <td>e</td>\n",
       "      <td>0</td>\n",
       "      <td>0</td>\n",
       "      <td>0</td>\n",
       "      <td>0</td>\n",
       "      <td>1</td>\n",
       "      <td>0</td>\n",
       "      <td>1</td>\n",
       "      <td>0</td>\n",
       "      <td>0</td>\n",
       "      <td>...</td>\n",
       "      <td>1</td>\n",
       "      <td>0</td>\n",
       "      <td>0</td>\n",
       "      <td>0</td>\n",
       "      <td>1</td>\n",
       "      <td>0</td>\n",
       "      <td>0</td>\n",
       "      <td>0</td>\n",
       "      <td>0</td>\n",
       "      <td>0</td>\n",
       "    </tr>\n",
       "    <tr>\n",
       "      <th>2</th>\n",
       "      <td>e</td>\n",
       "      <td>0</td>\n",
       "      <td>0</td>\n",
       "      <td>0</td>\n",
       "      <td>0</td>\n",
       "      <td>0</td>\n",
       "      <td>0</td>\n",
       "      <td>1</td>\n",
       "      <td>0</td>\n",
       "      <td>0</td>\n",
       "      <td>...</td>\n",
       "      <td>1</td>\n",
       "      <td>0</td>\n",
       "      <td>0</td>\n",
       "      <td>0</td>\n",
       "      <td>0</td>\n",
       "      <td>0</td>\n",
       "      <td>1</td>\n",
       "      <td>0</td>\n",
       "      <td>0</td>\n",
       "      <td>0</td>\n",
       "    </tr>\n",
       "    <tr>\n",
       "      <th>3</th>\n",
       "      <td>p</td>\n",
       "      <td>0</td>\n",
       "      <td>0</td>\n",
       "      <td>0</td>\n",
       "      <td>0</td>\n",
       "      <td>1</td>\n",
       "      <td>0</td>\n",
       "      <td>0</td>\n",
       "      <td>1</td>\n",
       "      <td>0</td>\n",
       "      <td>...</td>\n",
       "      <td>0</td>\n",
       "      <td>1</td>\n",
       "      <td>0</td>\n",
       "      <td>0</td>\n",
       "      <td>0</td>\n",
       "      <td>0</td>\n",
       "      <td>0</td>\n",
       "      <td>0</td>\n",
       "      <td>1</td>\n",
       "      <td>0</td>\n",
       "    </tr>\n",
       "    <tr>\n",
       "      <th>4</th>\n",
       "      <td>e</td>\n",
       "      <td>0</td>\n",
       "      <td>0</td>\n",
       "      <td>0</td>\n",
       "      <td>0</td>\n",
       "      <td>1</td>\n",
       "      <td>0</td>\n",
       "      <td>1</td>\n",
       "      <td>0</td>\n",
       "      <td>0</td>\n",
       "      <td>...</td>\n",
       "      <td>0</td>\n",
       "      <td>0</td>\n",
       "      <td>0</td>\n",
       "      <td>0</td>\n",
       "      <td>1</td>\n",
       "      <td>0</td>\n",
       "      <td>0</td>\n",
       "      <td>0</td>\n",
       "      <td>0</td>\n",
       "      <td>0</td>\n",
       "    </tr>\n",
       "  </tbody>\n",
       "</table>\n",
       "<p>5 rows × 92 columns</p>\n",
       "</div>"
      ],
      "text/plain": [
       "  target  cap-shape_c  cap-shape_f  cap-shape_k  cap-shape_s  cap-shape_x  \\\n",
       "0      p            0            0            0            0            1   \n",
       "1      e            0            0            0            0            1   \n",
       "2      e            0            0            0            0            0   \n",
       "3      p            0            0            0            0            1   \n",
       "4      e            0            0            0            0            1   \n",
       "\n",
       "   cap-surface_g  cap-surface_s  cap-surface_y  cap-color_c    ...      \\\n",
       "0              0              1              0            0    ...       \n",
       "1              0              1              0            0    ...       \n",
       "2              0              1              0            0    ...       \n",
       "3              0              0              1            0    ...       \n",
       "4              0              1              0            0    ...       \n",
       "\n",
       "   population_n  population_s  population_v  population_y  habitat_g  \\\n",
       "0             0             1             0             0          0   \n",
       "1             1             0             0             0          1   \n",
       "2             1             0             0             0          0   \n",
       "3             0             1             0             0          0   \n",
       "4             0             0             0             0          1   \n",
       "\n",
       "   habitat_l  habitat_m  habitat_p  habitat_u  habitat_w  \n",
       "0          0          0          0          1          0  \n",
       "1          0          0          0          0          0  \n",
       "2          0          1          0          0          0  \n",
       "3          0          0          0          1          0  \n",
       "4          0          0          0          0          0  \n",
       "\n",
       "[5 rows x 92 columns]"
      ]
     },
     "execution_count": 3,
     "metadata": {},
     "output_type": "execute_result"
    }
   ],
   "source": [
    "df.head()"
   ]
  },
  {
   "cell_type": "code",
   "execution_count": 4,
   "metadata": {},
   "outputs": [],
   "source": [
    "X = df.drop('target', axis=1)"
   ]
  },
  {
   "cell_type": "code",
   "execution_count": null,
   "metadata": {},
   "outputs": [],
   "source": [
    "y = df['target']"
   ]
  },
  {
   "cell_type": "code",
   "execution_count": null,
   "metadata": {},
   "outputs": [],
   "source": [
    "X_train,X_test,y_train,y_test = train_test_split(X,y,test_size=0.3)"
   ]
  },
  {
   "cell_type": "code",
   "execution_count": null,
   "metadata": {},
   "outputs": [],
   "source": [
    "knn_model = KNeighborsClassifier(n_neighbors=5, algorithm='ball_tree')"
   ]
  },
  {
   "cell_type": "code",
   "execution_count": null,
   "metadata": {},
   "outputs": [
    {
     "data": {
      "text/plain": [
       "KNeighborsClassifier(algorithm='ball_tree', leaf_size=30, metric='minkowski',\n",
       "           metric_params=None, n_jobs=None, n_neighbors=5, p=2,\n",
       "           weights='uniform')"
      ]
     },
     "execution_count": 8,
     "metadata": {},
     "output_type": "execute_result"
    }
   ],
   "source": [
    "knn_model.fit(X_train, y_train)"
   ]
  },
  {
   "cell_type": "code",
   "execution_count": null,
   "metadata": {},
   "outputs": [],
   "source": [
    "@profile(immediate=True)\n",
    "def predict_model():\n",
    "    y_pred = knn_model.predict(X_test)"
   ]
  },
  {
   "cell_type": "code",
   "execution_count": null,
   "metadata": {},
   "outputs": [
    {
     "name": "stdout",
     "output_type": "stream",
     "text": [
      "\n",
      "*** PROFILER RESULTS ***\n",
      "predict_model (<ipython-input-9-0f73fdcf900e>:1)\n",
      "function called 1 times\n",
      "\n",
      "         896 function calls (875 primitive calls) in 2.311 seconds\n",
      "\n",
      "   Ordered by: cumulative time, internal time, call count\n",
      "   List reduced from 229 to 40 due to restriction <40>\n",
      "\n",
      "   ncalls  tottime  percall  cumtime  percall filename:lineno(function)\n",
      "        1    0.000    0.000    2.311    2.311 <ipython-input-9-0f73fdcf900e>:1(predict_model)\n",
      "        1    0.000    0.000    2.311    2.311 classification.py:133(predict)\n",
      "        1    0.000    0.000    2.299    2.299 base.py:323(kneighbors)\n",
      "        1    0.000    0.000    2.295    2.295 parallel.py:932(__call__)\n",
      "        2    0.000    0.000    2.293    1.147 parallel.py:801(dispatch_one_batch)\n",
      "        1    0.000    0.000    2.293    2.293 parallel.py:764(_dispatch)\n",
      "        1    0.000    0.000    2.293    2.293 _parallel_backends.py:180(apply_async)\n",
      "        1    0.000    0.000    2.293    2.293 _parallel_backends.py:542(__init__)\n",
      "        1    0.000    0.000    2.293    2.293 parallel.py:258(__call__)\n",
      "        1    0.000    0.000    2.293    2.293 parallel.py:260(<listcomp>)\n",
      "        1    2.290    2.290    2.293    2.293 {method 'query' of 'sklearn.neighbors.ball_tree.BinaryTree' objects}\n",
      "        3    0.001    0.000    0.013    0.004 validation.py:357(check_array)\n",
      "        2    0.000    0.000    0.008    0.004 generic.py:4765(dtypes)\n",
      "        2    0.000    0.000    0.006    0.003 series.py:166(__init__)\n",
      "        2    0.000    0.000    0.004    0.002 series.py:4019(_sanitize_array)\n",
      "    47/37    0.000    0.000    0.004    0.000 {built-in method builtins.hasattr}\n",
      "        2    0.000    0.000    0.004    0.002 series.py:4036(_try_cast)\n",
      "    25/24    0.002    0.000    0.003    0.000 {built-in method numpy.core.multiarray.array}\n",
      "        9    0.000    0.000    0.002    0.000 numeric.py:433(asarray)\n",
      "        2    0.000    0.000    0.002    0.001 cast.py:971(maybe_cast_to_datetime)\n",
      "       11    0.002    0.000    0.002    0.000 common.py:1835(_get_dtype_type)\n",
      "        4    0.000    0.000    0.002    0.000 common.py:332(is_datetime64_dtype)\n",
      "      150    0.001    0.000    0.002    0.000 {built-in method builtins.isinstance}\n",
      "      2/1    0.000    0.000    0.001    0.001 parallel.py:735(_initialize_backend)\n",
      "        1    0.000    0.000    0.001    0.001 stats.py:386(mode)\n",
      "        4    0.001    0.000    0.001    0.000 _parallel_backends.py:36(__init__)\n",
      "        1    0.000    0.000    0.001    0.001 _parallel_backends.py:345(configure)\n",
      "        2    0.000    0.000    0.001    0.001 internals.py:4639(__init__)\n",
      "        2    0.000    0.000    0.001    0.001 internals.py:3191(make_block)\n",
      "        2    0.000    0.000    0.001    0.001 common.py:1629(is_extension_type)\n",
      "        2    0.000    0.000    0.001    0.001 internals.py:3404(get_dtypes)\n",
      "        1    0.000    0.000    0.001    0.001 parallel.py:650(__init__)\n",
      "        2    0.000    0.000    0.001    0.000 algorithms.py:1548(take_nd)\n",
      "        2    0.000    0.000    0.001    0.000 internals.py:3148(get_block_type)\n",
      "       34    0.000    0.000    0.001    0.000 generic.py:7(_check)\n",
      "    75/74    0.001    0.000    0.001    0.000 {built-in method builtins.getattr}\n",
      "        4    0.000    0.000    0.001    0.000 common.py:195(is_categorical)\n",
      "        3    0.000    0.000    0.001    0.000 validation.py:40(_assert_all_finite)\n",
      "        6    0.000    0.000    0.001    0.000 common.py:227(is_datetimetz)\n",
      "    55/47    0.000    0.000    0.001    0.000 {built-in method builtins.len}\n",
      "\n",
      "\n"
     ]
    }
   ],
   "source": [
    "predict_model()"
   ]
  },
  {
   "cell_type": "code",
   "execution_count": null,
   "metadata": {},
   "outputs": [],
   "source": [
    "cv_scores = []\n",
    "\n",
    "for k in range(1,50):\n",
    "    knn = KNeighborsClassifier(n_neighbors=k)\n",
    "    scores = cross_val_score(knn, X_train, y_train, cv=10, scoring='accuracy')\n",
    "    cv_scores.append(scores.mean())"
   ]
  },
  {
   "cell_type": "code",
   "execution_count": null,
   "metadata": {},
   "outputs": [],
   "source": [
    "plt.plot(range(1,50), cv_scores)\n",
    "plt.xlabel('Número de K Vizinhos')\n",
    "plt.ylabel('Acurácia')\n",
    "plt.xticks(np.arange(1,50,2))\n",
    "plt.grid()\n",
    "plt.show()"
   ]
  },
  {
   "cell_type": "code",
   "execution_count": null,
   "metadata": {},
   "outputs": [],
   "source": [
    "print(confusion_matrix(y_test,y_pred))  \n",
    "print(classification_report(y_test,y_pred))"
   ]
  }
 ],
 "metadata": {
  "kernelspec": {
   "display_name": "Python 3",
   "language": "python",
   "name": "python3"
  },
  "language_info": {
   "codemirror_mode": {
    "name": "ipython",
    "version": 3
   },
   "file_extension": ".py",
   "mimetype": "text/x-python",
   "name": "python",
   "nbconvert_exporter": "python",
   "pygments_lexer": "ipython3",
   "version": "3.7.0"
  }
 },
 "nbformat": 4,
 "nbformat_minor": 2
}
